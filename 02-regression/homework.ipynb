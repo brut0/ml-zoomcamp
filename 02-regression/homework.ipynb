{
 "cells": [
  {
   "cell_type": "code",
   "execution_count": 1,
   "metadata": {},
   "outputs": [],
   "source": [
    "import numpy as np\n",
    "import pandas as pd\n",
    "import seaborn as sns\n",
    "from sklearn.model_selection import train_test_split\n",
    "\n",
    "np.random.seed(42)"
   ]
  },
  {
   "cell_type": "code",
   "execution_count": 2,
   "metadata": {},
   "outputs": [
    {
     "name": "stdout",
     "output_type": "stream",
     "text": [
      "<class 'pandas.core.frame.DataFrame'>\n",
      "RangeIndex: 20640 entries, 0 to 20639\n",
      "Data columns (total 10 columns):\n",
      " #   Column              Non-Null Count  Dtype  \n",
      "---  ------              --------------  -----  \n",
      " 0   longitude           20640 non-null  float64\n",
      " 1   latitude            20640 non-null  float64\n",
      " 2   housing_median_age  20640 non-null  float64\n",
      " 3   total_rooms         20640 non-null  float64\n",
      " 4   total_bedrooms      20433 non-null  float64\n",
      " 5   population          20640 non-null  float64\n",
      " 6   households          20640 non-null  float64\n",
      " 7   median_income       20640 non-null  float64\n",
      " 8   median_house_value  20640 non-null  float64\n",
      " 9   ocean_proximity     20640 non-null  object \n",
      "dtypes: float64(9), object(1)\n",
      "memory usage: 1.6+ MB\n"
     ]
    }
   ],
   "source": [
    "df = pd.read_csv('housing.csv')\n",
    "df.info()"
   ]
  },
  {
   "cell_type": "code",
   "execution_count": 3,
   "metadata": {},
   "outputs": [
    {
     "data": {
      "text/html": [
       "<div>\n",
       "<style scoped>\n",
       "    .dataframe tbody tr th:only-of-type {\n",
       "        vertical-align: middle;\n",
       "    }\n",
       "\n",
       "    .dataframe tbody tr th {\n",
       "        vertical-align: top;\n",
       "    }\n",
       "\n",
       "    .dataframe thead th {\n",
       "        text-align: right;\n",
       "    }\n",
       "</style>\n",
       "<table border=\"1\" class=\"dataframe\">\n",
       "  <thead>\n",
       "    <tr style=\"text-align: right;\">\n",
       "      <th></th>\n",
       "      <th>longitude</th>\n",
       "      <th>latitude</th>\n",
       "      <th>housing_median_age</th>\n",
       "      <th>total_rooms</th>\n",
       "      <th>total_bedrooms</th>\n",
       "      <th>population</th>\n",
       "      <th>households</th>\n",
       "      <th>median_income</th>\n",
       "      <th>median_house_value</th>\n",
       "      <th>ocean_proximity</th>\n",
       "    </tr>\n",
       "  </thead>\n",
       "  <tbody>\n",
       "    <tr>\n",
       "      <th>0</th>\n",
       "      <td>-122.23</td>\n",
       "      <td>37.88</td>\n",
       "      <td>41.0</td>\n",
       "      <td>880.0</td>\n",
       "      <td>129.0</td>\n",
       "      <td>322.0</td>\n",
       "      <td>126.0</td>\n",
       "      <td>8.3252</td>\n",
       "      <td>452600.0</td>\n",
       "      <td>NEAR BAY</td>\n",
       "    </tr>\n",
       "    <tr>\n",
       "      <th>1</th>\n",
       "      <td>-122.22</td>\n",
       "      <td>37.86</td>\n",
       "      <td>21.0</td>\n",
       "      <td>7099.0</td>\n",
       "      <td>1106.0</td>\n",
       "      <td>2401.0</td>\n",
       "      <td>1138.0</td>\n",
       "      <td>8.3014</td>\n",
       "      <td>358500.0</td>\n",
       "      <td>NEAR BAY</td>\n",
       "    </tr>\n",
       "    <tr>\n",
       "      <th>2</th>\n",
       "      <td>-122.24</td>\n",
       "      <td>37.85</td>\n",
       "      <td>52.0</td>\n",
       "      <td>1467.0</td>\n",
       "      <td>190.0</td>\n",
       "      <td>496.0</td>\n",
       "      <td>177.0</td>\n",
       "      <td>7.2574</td>\n",
       "      <td>352100.0</td>\n",
       "      <td>NEAR BAY</td>\n",
       "    </tr>\n",
       "  </tbody>\n",
       "</table>\n",
       "</div>"
      ],
      "text/plain": [
       "   longitude  latitude  housing_median_age  total_rooms  total_bedrooms  \\\n",
       "0    -122.23     37.88                41.0        880.0           129.0   \n",
       "1    -122.22     37.86                21.0       7099.0          1106.0   \n",
       "2    -122.24     37.85                52.0       1467.0           190.0   \n",
       "\n",
       "   population  households  median_income  median_house_value ocean_proximity  \n",
       "0       322.0       126.0         8.3252            452600.0        NEAR BAY  \n",
       "1      2401.0      1138.0         8.3014            358500.0        NEAR BAY  \n",
       "2       496.0       177.0         7.2574            352100.0        NEAR BAY  "
      ]
     },
     "execution_count": 3,
     "metadata": {},
     "output_type": "execute_result"
    }
   ],
   "source": [
    "df.head(3)"
   ]
  },
  {
   "cell_type": "code",
   "execution_count": 4,
   "metadata": {},
   "outputs": [],
   "source": [
    "df = df.drop(columns='ocean_proximity')"
   ]
  },
  {
   "cell_type": "code",
   "execution_count": 5,
   "metadata": {},
   "outputs": [
    {
     "data": {
      "text/plain": [
       "<seaborn.axisgrid.FacetGrid at 0x7f7fc41c8610>"
      ]
     },
     "execution_count": 5,
     "metadata": {},
     "output_type": "execute_result"
    },
    {
     "data": {
      "image/png": "[encoded data removed]",
      "text/plain": [
       "<Figure size 360x360 with 1 Axes>"
      ]
     },
     "metadata": {
      "needs_background": "light"
     },
     "output_type": "display_data"
    }
   ],
   "source": [
    "sns.displot(df, x=\"median_house_value\", kde=True)"
   ]
  },
  {
   "cell_type": "code",
   "execution_count": 6,
   "metadata": {},
   "outputs": [
    {
     "data": {
      "text/plain": [
       "longitude               0\n",
       "latitude                0\n",
       "housing_median_age      0\n",
       "total_rooms             0\n",
       "total_bedrooms        207\n",
       "population              0\n",
       "households              0\n",
       "median_income           0\n",
       "median_house_value      0\n",
       "dtype: int64"
      ]
     },
     "execution_count": 6,
     "metadata": {},
     "output_type": "execute_result"
    }
   ],
   "source": [
    "df.isna().sum()"
   ]
  },
  {
   "cell_type": "code",
   "execution_count": 7,
   "metadata": {},
   "outputs": [
    {
     "data": {
      "text/plain": [
       "1166.0"
      ]
     },
     "execution_count": 7,
     "metadata": {},
     "output_type": "execute_result"
    }
   ],
   "source": [
    "df.population.median()"
   ]
  },
  {
   "cell_type": "code",
   "execution_count": 8,
   "metadata": {},
   "outputs": [
    {
     "name": "stdout",
     "output_type": "stream",
     "text": [
      "Len of train: 12384\n",
      "Len of validate: 4128\n",
      "Len of test: 4128\n"
     ]
    }
   ],
   "source": [
    "df_len = len(df)\n",
    "df_idx = np.arange(df_len)\n",
    "np.random.shuffle(df_idx)\n",
    "\n",
    "train_len = int(df_len * 0.6)\n",
    "val_len = int(df_len * 0.2)\n",
    "test_len = df_len - (train_len + val_len)\n",
    "\n",
    "print(f\"Len of train: {train_len}\")\n",
    "print(f\"Len of validate: {val_len}\")\n",
    "print(f\"Len of test: {test_len}\")\n",
    "\n",
    "df_train = df.iloc[df_idx[:train_len]]\n",
    "df_val = df.iloc[df_idx[train_len:train_len + val_len]]\n",
    "df_test = df.iloc[df_idx[train_len + val_len:]]\n",
    "\n",
    "y_train = df_train.median_house_value.values\n",
    "y_val = df_val.median_house_value.values\n",
    "y_test = df_test.median_house_value.values\n",
    "\n",
    "df_train = df_train.drop(columns='median_house_value')\n",
    "df_val = df_val.drop(columns='median_house_value')\n",
    "df_test = df_test.drop(columns='median_house_value')\n",
    "\n",
    "y_train = np.log1p(y_train)\n",
    "y_val = np.log1p(y_val)\n",
    "y_test = np.log1p(y_test)"
   ]
  },
  {
   "cell_type": "code",
   "execution_count": 9,
   "metadata": {},
   "outputs": [],
   "source": [
    "def train_linear_regression(X, y, r=0.0):\n",
    "    ones = np.ones(X.shape[0])\n",
    "    X = np.column_stack([ones, X])\n",
    "    XTX = X.T.dot(X)\n",
    "    reg = r * np.eye(XTX.shape[0])\n",
    "    XTX = XTX + reg\n",
    "    XTX_inv = np.linalg.inv(XTX)\n",
    "    w = XTX_inv.dot(X.T).dot(y)\n",
    "    return w[0], w[1:]\n",
    "\n",
    "def predict_linear_regression(w_0, w, X):\n",
    "    return w_0 + X.dot(w)\n",
    "\n",
    "def rmse(y, y_pred):\n",
    "    error = y_pred - y\n",
    "    mse = (error ** 2).mean()\n",
    "    return np.sqrt(mse)"
   ]
  },
  {
   "cell_type": "code",
   "execution_count": 10,
   "metadata": {},
   "outputs": [
    {
     "name": "stdout",
     "output_type": "stream",
     "text": [
      "RMSE for zero filled validation dataset: 0.33\n"
     ]
    }
   ],
   "source": [
    "df_train_zero_filled = df_train.copy()\n",
    "df_val_zero_filled = df_val.copy()\n",
    "df_test_zero_filled = df_test.copy()\n",
    "\n",
    "df_train_zero_filled = df_train_zero_filled.fillna(0)\n",
    "df_val_zero_filled = df_val_zero_filled.fillna(0)\n",
    "df_test_zero_filled = df_test_zero_filled.fillna(0)\n",
    "\n",
    "w_0_zero_filled, w_zero_filled = train_linear_regression(df_train_zero_filled.values, y_train)\n",
    "y_pred_zero_filled = w_0_zero_filled + df_train_zero_filled.dot(w_zero_filled)\n",
    "\n",
    "y_pred_val_zero_filled = w_0_zero_filled + df_val_zero_filled.dot(w_zero_filled)\n",
    "print(f\"RMSE for zero filled validation dataset: {round(rmse(y_val, y_pred_val_zero_filled), 2)}\")"
   ]
  },
  {
   "cell_type": "code",
   "execution_count": 11,
   "metadata": {},
   "outputs": [
    {
     "name": "stdout",
     "output_type": "stream",
     "text": [
      "RMSE for mean filled validation dataset: 0.33\n"
     ]
    }
   ],
   "source": [
    "df_train_mean_filled = df_train.copy()\n",
    "df_val_mean_filled = df_val.copy()\n",
    "df_test_mean_filled = df_test.copy()\n",
    "\n",
    "mean_value = df_train_mean_filled.total_bedrooms.mean()\n",
    "\n",
    "df_train_mean_filled.total_bedrooms = df_train_mean_filled.total_bedrooms.fillna(mean_value)\n",
    "df_val_mean_filled.total_bedrooms = df_val_mean_filled.total_bedrooms.fillna(mean_value)\n",
    "df_test_mean_filled.total_bedrooms = df_test_mean_filled.total_bedrooms.fillna(mean_value)\n",
    "\n",
    "w_0_mean_filled, w_mean_filled = train_linear_regression(df_train_mean_filled.values, y_train)\n",
    "y_pred_mean_filled = w_0_mean_filled + df_train_mean_filled.dot(w_mean_filled)\n",
    "\n",
    "y_pred_val_mean_filled = w_0_mean_filled + df_val_mean_filled.dot(w_mean_filled)\n",
    "print(f\"RMSE for mean filled validation dataset: {round(rmse(y_val, y_pred_val_mean_filled), 2)}\")"
   ]
  },
  {
   "cell_type": "code",
   "execution_count": 12,
   "metadata": {},
   "outputs": [
    {
     "name": "stdout",
     "output_type": "stream",
     "text": [
      "r = 0; score = 0.33\n",
      "r = 1e-06; score = 0.33\n",
      "r = 0.0001; score = 0.33\n",
      "r = 0.001; score = 0.33\n",
      "r = 0.01; score = 0.33\n",
      "r = 0.1; score = 0.33\n",
      "r = 1; score = 0.33\n",
      "r = 5; score = 0.34\n",
      "r = 10; score = 0.34\n"
     ]
    }
   ],
   "source": [
    "for r in [0, 0.000001, 0.0001, 0.001, 0.01, 0.1, 1, 5, 10]:\n",
    "    w_0, w = train_linear_regression(df_train_zero_filled, y_train, r)\n",
    "    y_val_pred = predict_linear_regression(w_0, w, df_val_zero_filled)\n",
    "    score = round(rmse(y_val, y_val_pred), 2)\n",
    "    print(f'r = {r}; score = {score}')"
   ]
  },
  {
   "cell_type": "code",
   "execution_count": 13,
   "metadata": {},
   "outputs": [
    {
     "name": "stdout",
     "output_type": "stream",
     "text": [
      "[0.3388430480529002, 0.3362387255957136, 0.33209123188428413, 0.3405153609042384, 0.33890240665725224, 0.3434866725718318, 0.34519809530989204, 0.33959899274077954, 0.34662308731908026, 0.33659261241731864]\n",
      "0.004\n"
     ]
    }
   ],
   "source": [
    "train_len = int(df_len * 0.6)\n",
    "val_len = int(df_len * 0.2)\n",
    "test_len = df_len - (train_len + val_len)\n",
    "df_len = len(df)\n",
    "\n",
    "seeds = [0, 1, 2, 3, 4, 5, 6, 7, 8, 9]\n",
    "\n",
    "scores = []\n",
    "for i, seed in enumerate(seeds):\n",
    "    np.random.seed(seed)\n",
    "\n",
    "    df_idx = np.arange(df_len)\n",
    "    np.random.shuffle(df_idx)\n",
    "\n",
    "    df_train = df.iloc[df_idx[:train_len]]\n",
    "    df_val = df.iloc[df_idx[train_len:train_len + val_len]]\n",
    "\n",
    "    y_train = df_train.median_house_value.values\n",
    "    y_val = df_val.median_house_value.values\n",
    "\n",
    "    X_train = df_train.drop(columns='median_house_value').fillna(0)\n",
    "    X_val = df_val.drop(columns='median_house_value').fillna(0)\n",
    "\n",
    "    y_train = np.log1p(y_train)\n",
    "    y_val = np.log1p(y_val)\n",
    "\n",
    "    w_0, w = train_linear_regression(X_train, y_train)\n",
    "    y_val_pred = predict_linear_regression(w_0, w, X_val)\n",
    "    score = rmse(y_val, y_val_pred)\n",
    "    scores.append(score)\n",
    "print(scores)\n",
    "print(round(np.std(scores), 3))"
   ]
  },
  {
   "cell_type": "code",
   "execution_count": 14,
   "metadata": {},
   "outputs": [
    {
     "data": {
      "text/plain": [
       "0.35"
      ]
     },
     "execution_count": 14,
     "metadata": {},
     "output_type": "execute_result"
    }
   ],
   "source": [
    "\n",
    "np.random.seed(9)\n",
    "\n",
    "df_idx = np.arange(df_len)\n",
    "np.random.shuffle(df_idx)\n",
    "\n",
    "df_train = df.iloc[df_idx[:train_len]]\n",
    "df_val = df.iloc[df_idx[train_len:train_len + val_len]]\n",
    "df_test = df.iloc[df_idx[train_len + val_len:]]\n",
    "\n",
    "df_train = pd.concat([df_train, df_val])\n",
    "\n",
    "y_train = df_train.median_house_value.values\n",
    "y_test = df_test.median_house_value.values\n",
    "\n",
    "X_train = df_train.drop(columns='median_house_value').fillna(0)\n",
    "X_test = df_test.drop(columns='median_house_value').fillna(0)\n",
    "\n",
    "y_train = np.log1p(y_train)\n",
    "y_test = np.log1p(y_test)\n",
    "\n",
    "w_0, w = train_linear_regression(X_train, y_train, r=0.001)\n",
    "y_test_pred = predict_linear_regression(w_0, w, X_test)\n",
    "round(rmse(y_test, y_test_pred), 2)"
   ]
  },
  {
   "cell_type": "code",
   "execution_count": null,
   "metadata": {},
   "outputs": [],
   "source": []
  }
 ],
 "metadata": {
  "kernelspec": {
   "display_name": "Python 3.9.12 ('base')",
   "language": "python",
   "name": "python3"
  },
  "language_info": {
   "codemirror_mode": {
    "name": "ipython",
    "version": 3
   },
   "file_extension": ".py",
   "mimetype": "text/x-python",
   "name": "python",
   "nbconvert_exporter": "python",
   "pygments_lexer": "ipython3",
   "version": "3.9.12"
  },
  "orig_nbformat": 4,
  "vscode": {
   "interpreter": {
    "hash": "7c7a7325fb19613d479dc4340de84e309df94ef0fb88dea5918e630e32ee6fbd"
   }
  }
 },
 "nbformat": 4,
 "nbformat_minor": 2
}
